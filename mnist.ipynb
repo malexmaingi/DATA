{
  "nbformat": 4,
  "nbformat_minor": 0,
  "metadata": {
    "colab": {
      "name": "mnist.ipynb",
      "provenance": [],
      "collapsed_sections": []
    },
    "kernelspec": {
      "name": "python3",
      "display_name": "Python 3"
    },
    "language_info": {
      "name": "python"
    }
  },
  "cells": [
    {
      "cell_type": "code",
      "metadata": {
        "id": "RRhnVyq3twMc"
      },
      "source": [
        "from tensorflow.keras import datasets, models, layers, Sequential\n",
        "import matplotlib.pyplot as plt\n",
        "import numpy as np\n",
        "import tensorflow as tf\n"
      ],
      "execution_count": null,
      "outputs": []
    },
    {
      "cell_type": "code",
      "metadata": {
        "id": "AoQ0EnBsxj36"
      },
      "source": [
        "#loading y data\n",
        "(X_train, y_train),(X_test, y_test) = datasets.mnist.load_data()"
      ],
      "execution_count": null,
      "outputs": []
    },
    {
      "cell_type": "code",
      "metadata": {
        "id": "OvBeyoY5yBkA"
      },
      "source": [
        "x_train= x_train.reshape((X_train.shape[0], 28,28,1))\n",
        "x_test = x_test.reshape(X_test.shape[0], 28,28,1)\n",
        "\n"
      ],
      "execution_count": null,
      "outputs": []
    },
    {
      "cell_type": "code",
      "metadata": {
        "colab": {
          "base_uri": "https://localhost:8080/",
          "height": 513
        },
        "id": "byjVUOqVyGDt",
        "outputId": "e9b489ae-823e-4364-c572-9bd43bbaea9e"
      },
      "source": [
        "for i in range(2):\n",
        "  plt.imshow(X_train[i])\n",
        "  plt.show()"
      ],
      "execution_count": null,
      "outputs": [
        {
          "output_type": "display_data",
          "data": {
            "image/png": "[encoded data removed]",
            "text/plain": [
              "<Figure size 432x288 with 1 Axes>"
            ]
          },
          "metadata": {
            "needs_background": "light"
          }
        },
        {
          "output_type": "display_data",
          "data": {
            "image/png": "[encoded data removed]",
            "text/plain": [
              "<Figure size 432x288 with 1 Axes>"
            ]
          },
          "metadata": {
            "needs_background": "light"
          }
        }
      ]
    },
    {
      "cell_type": "code",
      "metadata": {
        "colab": {
          "base_uri": "https://localhost:8080/"
        },
        "id": "vvPKx9SSysxW",
        "outputId": "8131ba4c-a23e-42f8-a4c3-f2f0b7c37b76"
      },
      "source": [
        "model = models.Sequential()\n",
        "model.add(layers.Conv2D(32,(3,3),input_shape=(28,28,1),activation='relu'))\n",
        "model.add(layers.MaxPool2D(2,2))\n",
        "model.add(layers.Conv2D(32,(3,3),activation='relu'))\n",
        "model.add(layers.MaxPool2D(2,2))\n",
        "model.add(layers.Conv2D(32,(3,3),activation='relu'))\n",
        "model.add(layers.MaxPool2D(2,2))\n",
        "model.add(layers.Conv2D(32,(3,3),activation='relu'))\n",
        "model.add(layers.MaxPool2D(2,2))\n",
        "model.add(layers.Flatten())\n",
        "model.add(layers.Dense(32, activation= 'softmax'))\n",
        "model.summary()\n"
      ],
      "execution_count": null,
      "outputs": [
        {
          "output_type": "stream",
          "name": "stdout",
          "text": [
            "Model: \"sequential_10\"\n",
            "_________________________________________________________________\n",
            "Layer (type)                 Output Shape              Param #   \n",
            "=================================================================\n",
            "conv2d_15 (Conv2D)           (None, 26, 26, 32)        320       \n",
            "_________________________________________________________________\n",
            "max_pooling2d_13 (MaxPooling (None, 13, 13, 32)        0         \n",
            "_________________________________________________________________\n",
            "conv2d_16 (Conv2D)           (None, 11, 11, 32)        9248      \n",
            "_________________________________________________________________\n",
            "max_pooling2d_14 (MaxPooling (None, 5, 5, 32)          0         \n",
            "_________________________________________________________________\n",
            "conv2d_17 (Conv2D)           (None, 3, 3, 32)          9248      \n",
            "_________________________________________________________________\n",
            "max_pooling2d_15 (MaxPooling (None, 1, 1, 32)          0         \n",
            "_________________________________________________________________\n",
            "flatten_4 (Flatten)          (None, 32)                0         \n",
            "_________________________________________________________________\n",
            "dense_4 (Dense)              (None, 32)                1056      \n",
            "=================================================================\n",
            "Total params: 19,872\n",
            "Trainable params: 19,872\n",
            "Non-trainable params: 0\n",
            "_________________________________________________________________\n"
          ]
        }
      ]
    },
    {
      "cell_type": "code",
      "metadata": {
        "colab": {
          "base_uri": "https://localhost:8080/"
        },
        "id": "UoqTes7Y2lPf",
        "outputId": "4439d301-778b-4f4d-d5f1-c9e250ee7cee"
      },
      "source": [
        "model.compile(loss= 'sparse_categorical_crossentropy', optimizer= 'adam', metrics= 'accuracy')\n",
        "model.fit(x_train,y_train, epochs=10, batch_size= 30)"
      ],
      "execution_count": null,
      "outputs": [
        {
          "output_type": "stream",
          "name": "stdout",
          "text": [
            "Epoch 1/10\n",
            "2000/2000 [==============================] - 53s 26ms/step - loss: 0.6170 - accuracy: 0.8645\n",
            "Epoch 2/10\n",
            "2000/2000 [==============================] - 49s 25ms/step - loss: 0.1292 - accuracy: 0.9611\n",
            "Epoch 3/10\n",
            "2000/2000 [==============================] - 50s 25ms/step - loss: 0.0931 - accuracy: 0.9715\n",
            "Epoch 4/10\n",
            "2000/2000 [==============================] - 48s 24ms/step - loss: 0.0788 - accuracy: 0.9756\n",
            "Epoch 5/10\n",
            "2000/2000 [==============================] - 47s 23ms/step - loss: 0.0649 - accuracy: 0.9796\n",
            "Epoch 6/10\n",
            "2000/2000 [==============================] - 49s 25ms/step - loss: 0.0568 - accuracy: 0.9819\n",
            "Epoch 7/10\n",
            "2000/2000 [==============================] - 48s 24ms/step - loss: 0.0499 - accuracy: 0.9845\n",
            "Epoch 8/10\n",
            "2000/2000 [==============================] - 47s 24ms/step - loss: 0.0472 - accuracy: 0.9849\n",
            "Epoch 9/10\n",
            "2000/2000 [==============================] - 49s 25ms/step - loss: 0.0426 - accuracy: 0.9866\n",
            "Epoch 10/10\n",
            "2000/2000 [==============================] - 50s 25ms/step - loss: 0.0392 - accuracy: 0.9871\n"
          ]
        },
        {
          "output_type": "execute_result",
          "data": {
            "text/plain": [
              "<keras.callbacks.History at 0x7f20c5ea9150>"
            ]
          },
          "metadata": {},
          "execution_count": 40
        }
      ]
    },
    {
      "cell_type": "code",
      "metadata": {
        "id": "Io_pnGBnEtEA"
      },
      "source": [
        ""
      ],
      "execution_count": null,
      "outputs": []
    }
  ]
}